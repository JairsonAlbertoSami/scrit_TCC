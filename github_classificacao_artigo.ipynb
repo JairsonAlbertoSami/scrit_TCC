{
  "nbformat": 4,
  "nbformat_minor": 0,
  "metadata": {
    "colab": {
      "provenance": [],
      "authorship_tag": "ABX9TyMonxqcRZGlUsnyKjIKzJb3",
      "include_colab_link": true
    },
    "kernelspec": {
      "name": "python3",
      "display_name": "Python 3"
    },
    "language_info": {
      "name": "python"
    }
  },
  "cells": [
    {
      "cell_type": "markdown",
      "metadata": {
        "id": "view-in-github",
        "colab_type": "text"
      },
      "source": [
        "<a href=\"https://colab.research.google.com/github/JairsonAlbertoSami/scrit_TCC/blob/main/github_classificacao_artigo.ipynb\" target=\"_parent\"><img src=\"https://colab.research.google.com/assets/colab-badge.svg\" alt=\"Open In Colab\"/></a>"
      ]
    },
    {
      "cell_type": "markdown",
      "source": [
        "# **Apresentação**\n",
        "Este Jupyter Notebook contém códigos e dados que foram discutidos no artigo.\n",
        "\n",
        "Clicar [aqui](https://drive.google.com/file/d/1-3kTp09Z7I5BiyEWMH1Dn-yJHn4asLMr/view?usp=sharing) para download do arquivo CSV"
      ],
      "metadata": {
        "id": "XLnEG0O7T8XR"
      }
    },
    {
      "cell_type": "code",
      "source": [
        "\n",
        "from IPython.display import HTML\n",
        "\n",
        "# Substitua 'URL_DO_ARQUIVO_CSV' pelo URL real do seu arquivo CSV\n",
        "csv_url = 'https://drive.google.com/file/d/1-3kTp09Z7I5BiyEWMH1Dn-yJHn4asLMr/view?usp=sharing'\n",
        "\n",
        "# Cria o link de download do arquivo CSV\n",
        "download_link = f'<a href=\"{csv_url}\" target=\"_blank\">Clique aqui para baixar o arquivo CSV</a>'\n",
        "HTML(download_link)"
      ],
      "metadata": {
        "colab": {
          "base_uri": "https://localhost:8080/",
          "height": 34
        },
        "id": "MRHkqR6MCB8Q",
        "outputId": "be90d78f-8062-4045-ce8f-25a13c82e785"
      },
      "execution_count": 13,
      "outputs": [
        {
          "output_type": "execute_result",
          "data": {
            "text/plain": [
              "<IPython.core.display.HTML object>"
            ],
            "text/html": [
              "<a href=\"https://drive.google.com/file/d/1-3kTp09Z7I5BiyEWMH1Dn-yJHn4asLMr/view?usp=sharing\" target=\"_blank\">Clique aqui para baixar o arquivo CSV</a>"
            ]
          },
          "metadata": {},
          "execution_count": 13
        }
      ]
    },
    {
      "cell_type": "code",
      "source": [],
      "metadata": {
        "id": "_ItlgRfiCylq"
      },
      "execution_count": null,
      "outputs": []
    },
    {
      "cell_type": "code",
      "source": [
        "%%capture\n",
        "!pip install pdpbox\n",
        "!pip install lime\n",
        "!pip install shap\n",
        "!pip install eli5\n",
        "!pip install mlxtend\n",
        "!pip install interpret"
      ],
      "metadata": {
        "id": "iw6sdiuKshyI"
      },
      "execution_count": null,
      "outputs": []
    },
    {
      "cell_type": "code",
      "execution_count": null,
      "metadata": {
        "id": "usje9qpLTtzb"
      },
      "outputs": [],
      "source": [
        "import numpy as np\n",
        "import pandas as pd\n",
        "import matplotlib.pyplot as plt\n",
        "import seaborn as sns\n",
        "import missingno as msno\n",
        "\n",
        "from sklearn.model_selection import train_test_split, GridSearchCV, cross_val_score, RepeatedStratifiedKFold\n",
        "from sklearn.ensemble import RandomForestClassifier, AdaBoostClassifier, BaggingClassifier, GradientBoostingClassifier, ExtraTreesClassifier\n",
        "from sklearn.linear_model import LogisticRegression, SGDClassifier\n",
        "from sklearn.naive_bayes import GaussianNB, BernoulliNB, MultinomialNB\n",
        "from sklearn.discriminant_analysis import LinearDiscriminantAnalysis, QuadraticDiscriminantAnalysis\n",
        "from sklearn.svm import SVC, LinearSVC, NuSVC\n",
        "from sklearn.neural_network import MLPClassifier\n",
        "from sklearn.feature_selection import SelectPercentile, VarianceThreshold, SelectFromModel\n",
        "from sklearn.impute import SimpleImputer\n",
        "from sklearn.preprocessing import RobustScaler, StandardScaler, MinMaxScaler, Binarizer\n",
        "from sklearn.decomposition import LatentDirichletAllocation, TruncatedSVD, PCA\n",
        "from sklearn.metrics import (\n",
        "    make_scorer, accuracy_score, balanced_accuracy_score, average_precision_score, brier_score_loss, f1_score,\n",
        "    log_loss, precision_score, recall_score, jaccard_score, roc_auc_score, classification_report, confusion_matrix,\n",
        "    roc_curve, precision_recall_curve, auc,\n",
        ")\n",
        "from sklearn.utils import resample\n",
        "from sklearn.tree import DecisionTreeClassifier\n",
        "from sklearn.neighbors import KNeighborsClassifier\n",
        "from sklearn.compose import ColumnTransformer\n",
        "from sklearn.pipeline import Pipeline, FeatureUnion\n",
        "from sklearn.calibration import CalibratedClassifierCV\n",
        "from sklearn.feature_extraction.text import TfidfVectorizer, CountVectorizer\n",
        "\n",
        "from tensorflow.keras.layers import Input, Dense, Dropout, Activation\n",
        "from tensorflow.keras.models import Model, Sequential\n",
        "\n",
        "from lightgbm import LGBMClassifier\n",
        "import xgboost as xgb\n",
        "from xgboost import XGBClassifier\n",
        "import joblib\n",
        "from joblib import delayed, Parallel\n"
      ]
    },
    {
      "cell_type": "code",
      "source": [
        "# montar drive do google\n",
        "from google.colab import drive\n",
        "drive.mount('/content/drive')"
      ],
      "metadata": {
        "colab": {
          "base_uri": "https://localhost:8080/"
        },
        "id": "lEbfn7HzVC7u",
        "outputId": "f7b99f3f-8ba4-470b-f1bd-ff382079cb17"
      },
      "execution_count": null,
      "outputs": [
        {
          "output_type": "stream",
          "name": "stdout",
          "text": [
            "Mounted at /content/drive\n"
          ]
        }
      ]
    },
    {
      "cell_type": "markdown",
      "source": [
        "# importar os dados em cvs"
      ],
      "metadata": {
        "id": "E2KbWD_YXvnj"
      }
    },
    {
      "cell_type": "code",
      "source": [
        "df = pd.read_csv(\"/content/drive/MyDrive/Data_TCC/df.csv\")\n",
        "df"
      ],
      "metadata": {
        "colab": {
          "base_uri": "https://localhost:8080/",
          "height": 505
        },
        "id": "zKiYxQ9IVtDs",
        "outputId": "b903b757-aaa9-4570-dcc7-c58a8e0eaaf8"
      },
      "execution_count": 11,
      "outputs": [
        {
          "output_type": "execute_result",
          "data": {
            "text/plain": [
              "        Unnamed: 0     mean_b11      mean_b2      mean_b3      mean_b4  \\\n",
              "0                0  2753.058624  1224.078590  1250.437128  1250.870858   \n",
              "1                1  2881.145060  1235.677785  1219.220894  1262.107930   \n",
              "2                2  3632.960000  1533.090000  1553.930000  1755.070000   \n",
              "3                3  1941.631229  1115.531561  1080.966777   905.840532   \n",
              "4                4  3911.183673  1537.781633  1548.573469  1765.465306   \n",
              "...            ...          ...          ...          ...          ...   \n",
              "175242      175242   423.193891  1237.776096  1043.164498   780.306330   \n",
              "175243      175243   408.978074  1212.062347  1005.483097   755.030622   \n",
              "175244      175244   396.042251  1203.614593   994.937156   746.774365   \n",
              "175245      175245   376.304425  1173.016856   944.767496   715.628324   \n",
              "175246      175246   372.792324  1173.748344   953.552687   716.922352   \n",
              "\n",
              "            mean_b8      mean_mde  mean_mmri  mean_mndwi  mean_ndvi  ...  \\\n",
              "0       2685.184367  3.145026e+01   0.013745   -0.373531   0.364801  ...   \n",
              "1       2575.129956  2.379757e+01   0.086262   -0.403594   0.342418  ...   \n",
              "2       2849.840000  1.580220e+01   0.256552   -0.400998   0.239051  ...   \n",
              "3       2838.488372  2.036450e+01  -0.288587   -0.283721   0.514981  ...   \n",
              "4       2836.348980  1.366887e+01   0.301277   -0.431290   0.235424  ...   \n",
              "...             ...           ...        ...         ...        ...  ...   \n",
              "175242   558.304737 -3.400000e+30   0.436828    0.422871  -0.165913  ...   \n",
              "175243   545.375551 -3.400000e+30   0.447153    0.421851  -0.161280  ...   \n",
              "175244   536.826735 -3.400000e+30   0.449650    0.430617  -0.163608  ...   \n",
              "175245   520.390183 -3.400000e+30   0.463183    0.430355  -0.157992  ...   \n",
              "175246   517.518200 -3.400000e+30   0.461224    0.437925  -0.161569  ...   \n",
              "\n",
              "             sd_b2       sd_b3       sd_b4       sd_b8        sd_mde  \\\n",
              "0        40.287289   45.659471  114.155740  117.792633  3.089686e+00   \n",
              "1        53.719208   58.156672  127.975245  148.755286  6.057349e+00   \n",
              "2       111.859921  117.654261  159.795698  102.221105  2.085619e+00   \n",
              "3        24.679403   30.700659   57.454600  189.580418  3.030736e+00   \n",
              "4       156.763019  168.954842  250.731143  195.606161  1.592134e+00   \n",
              "...            ...         ...         ...         ...           ...   \n",
              "175242   17.536224   20.039064   19.376044   17.735570  0.000000e+00   \n",
              "175243   16.668451   17.987422   18.203980   16.418770  0.000000e+00   \n",
              "175244   15.722678   17.830214   16.553118   14.849197  4.323840e+30   \n",
              "175245   12.103113   12.015568   12.860686   11.986688  0.000000e+00   \n",
              "175246   14.458567   17.138250   15.211807   13.330500  0.000000e+00   \n",
              "\n",
              "         sd_mmri  sd_mndwi   sd_ndvi   sd_ndwi  classe  \n",
              "0       0.101680  0.035169  0.047170  0.020073     NaN  \n",
              "1       0.106449  0.031324  0.056107  0.030531     NaN  \n",
              "2       0.063813  0.026420  0.037520  0.028126     NaN  \n",
              "3       0.069984  0.026486  0.039590  0.026612     NaN  \n",
              "4       0.124772  0.035664  0.061218  0.041083     NaN  \n",
              "...          ...       ...       ...       ...     ...  \n",
              "175242  0.032722  0.012750  0.012561  0.011025     NaN  \n",
              "175243  0.030877  0.012876  0.011487  0.010035     NaN  \n",
              "175244  0.028286  0.010794  0.010864  0.009631     NaN  \n",
              "175245  0.026820  0.009076  0.009846  0.007782     NaN  \n",
              "175246  0.025770  0.011025  0.009983  0.009799     NaN  \n",
              "\n",
              "[175247 rows x 32 columns]"
            ],
            "text/html": [
              "\n",
              "\n",
              "  <div id=\"df-c56771df-c668-4299-8e3e-f10a605371fb\">\n",
              "    <div class=\"colab-df-container\">\n",
              "      <div>\n",
              "<style scoped>\n",
              "    .dataframe tbody tr th:only-of-type {\n",
              "        vertical-align: middle;\n",
              "    }\n",
              "\n",
              "    .dataframe tbody tr th {\n",
              "        vertical-align: top;\n",
              "    }\n",
              "\n",
              "    .dataframe thead th {\n",
              "        text-align: right;\n",
              "    }\n",
              "</style>\n",
              "<table border=\"1\" class=\"dataframe\">\n",
              "  <thead>\n",
              "    <tr style=\"text-align: right;\">\n",
              "      <th></th>\n",
              "      <th>Unnamed: 0</th>\n",
              "      <th>mean_b11</th>\n",
              "      <th>mean_b2</th>\n",
              "      <th>mean_b3</th>\n",
              "      <th>mean_b4</th>\n",
              "      <th>mean_b8</th>\n",
              "      <th>mean_mde</th>\n",
              "      <th>mean_mmri</th>\n",
              "      <th>mean_mndwi</th>\n",
              "      <th>mean_ndvi</th>\n",
              "      <th>...</th>\n",
              "      <th>sd_b2</th>\n",
              "      <th>sd_b3</th>\n",
              "      <th>sd_b4</th>\n",
              "      <th>sd_b8</th>\n",
              "      <th>sd_mde</th>\n",
              "      <th>sd_mmri</th>\n",
              "      <th>sd_mndwi</th>\n",
              "      <th>sd_ndvi</th>\n",
              "      <th>sd_ndwi</th>\n",
              "      <th>classe</th>\n",
              "    </tr>\n",
              "  </thead>\n",
              "  <tbody>\n",
              "    <tr>\n",
              "      <th>0</th>\n",
              "      <td>0</td>\n",
              "      <td>2753.058624</td>\n",
              "      <td>1224.078590</td>\n",
              "      <td>1250.437128</td>\n",
              "      <td>1250.870858</td>\n",
              "      <td>2685.184367</td>\n",
              "      <td>3.145026e+01</td>\n",
              "      <td>0.013745</td>\n",
              "      <td>-0.373531</td>\n",
              "      <td>0.364801</td>\n",
              "      <td>...</td>\n",
              "      <td>40.287289</td>\n",
              "      <td>45.659471</td>\n",
              "      <td>114.155740</td>\n",
              "      <td>117.792633</td>\n",
              "      <td>3.089686e+00</td>\n",
              "      <td>0.101680</td>\n",
              "      <td>0.035169</td>\n",
              "      <td>0.047170</td>\n",
              "      <td>0.020073</td>\n",
              "      <td>NaN</td>\n",
              "    </tr>\n",
              "    <tr>\n",
              "      <th>1</th>\n",
              "      <td>1</td>\n",
              "      <td>2881.145060</td>\n",
              "      <td>1235.677785</td>\n",
              "      <td>1219.220894</td>\n",
              "      <td>1262.107930</td>\n",
              "      <td>2575.129956</td>\n",
              "      <td>2.379757e+01</td>\n",
              "      <td>0.086262</td>\n",
              "      <td>-0.403594</td>\n",
              "      <td>0.342418</td>\n",
              "      <td>...</td>\n",
              "      <td>53.719208</td>\n",
              "      <td>58.156672</td>\n",
              "      <td>127.975245</td>\n",
              "      <td>148.755286</td>\n",
              "      <td>6.057349e+00</td>\n",
              "      <td>0.106449</td>\n",
              "      <td>0.031324</td>\n",
              "      <td>0.056107</td>\n",
              "      <td>0.030531</td>\n",
              "      <td>NaN</td>\n",
              "    </tr>\n",
              "    <tr>\n",
              "      <th>2</th>\n",
              "      <td>2</td>\n",
              "      <td>3632.960000</td>\n",
              "      <td>1533.090000</td>\n",
              "      <td>1553.930000</td>\n",
              "      <td>1755.070000</td>\n",
              "      <td>2849.840000</td>\n",
              "      <td>1.580220e+01</td>\n",
              "      <td>0.256552</td>\n",
              "      <td>-0.400998</td>\n",
              "      <td>0.239051</td>\n",
              "      <td>...</td>\n",
              "      <td>111.859921</td>\n",
              "      <td>117.654261</td>\n",
              "      <td>159.795698</td>\n",
              "      <td>102.221105</td>\n",
              "      <td>2.085619e+00</td>\n",
              "      <td>0.063813</td>\n",
              "      <td>0.026420</td>\n",
              "      <td>0.037520</td>\n",
              "      <td>0.028126</td>\n",
              "      <td>NaN</td>\n",
              "    </tr>\n",
              "    <tr>\n",
              "      <th>3</th>\n",
              "      <td>3</td>\n",
              "      <td>1941.631229</td>\n",
              "      <td>1115.531561</td>\n",
              "      <td>1080.966777</td>\n",
              "      <td>905.840532</td>\n",
              "      <td>2838.488372</td>\n",
              "      <td>2.036450e+01</td>\n",
              "      <td>-0.288587</td>\n",
              "      <td>-0.283721</td>\n",
              "      <td>0.514981</td>\n",
              "      <td>...</td>\n",
              "      <td>24.679403</td>\n",
              "      <td>30.700659</td>\n",
              "      <td>57.454600</td>\n",
              "      <td>189.580418</td>\n",
              "      <td>3.030736e+00</td>\n",
              "      <td>0.069984</td>\n",
              "      <td>0.026486</td>\n",
              "      <td>0.039590</td>\n",
              "      <td>0.026612</td>\n",
              "      <td>NaN</td>\n",
              "    </tr>\n",
              "    <tr>\n",
              "      <th>4</th>\n",
              "      <td>4</td>\n",
              "      <td>3911.183673</td>\n",
              "      <td>1537.781633</td>\n",
              "      <td>1548.573469</td>\n",
              "      <td>1765.465306</td>\n",
              "      <td>2836.348980</td>\n",
              "      <td>1.366887e+01</td>\n",
              "      <td>0.301277</td>\n",
              "      <td>-0.431290</td>\n",
              "      <td>0.235424</td>\n",
              "      <td>...</td>\n",
              "      <td>156.763019</td>\n",
              "      <td>168.954842</td>\n",
              "      <td>250.731143</td>\n",
              "      <td>195.606161</td>\n",
              "      <td>1.592134e+00</td>\n",
              "      <td>0.124772</td>\n",
              "      <td>0.035664</td>\n",
              "      <td>0.061218</td>\n",
              "      <td>0.041083</td>\n",
              "      <td>NaN</td>\n",
              "    </tr>\n",
              "    <tr>\n",
              "      <th>...</th>\n",
              "      <td>...</td>\n",
              "      <td>...</td>\n",
              "      <td>...</td>\n",
              "      <td>...</td>\n",
              "      <td>...</td>\n",
              "      <td>...</td>\n",
              "      <td>...</td>\n",
              "      <td>...</td>\n",
              "      <td>...</td>\n",
              "      <td>...</td>\n",
              "      <td>...</td>\n",
              "      <td>...</td>\n",
              "      <td>...</td>\n",
              "      <td>...</td>\n",
              "      <td>...</td>\n",
              "      <td>...</td>\n",
              "      <td>...</td>\n",
              "      <td>...</td>\n",
              "      <td>...</td>\n",
              "      <td>...</td>\n",
              "      <td>...</td>\n",
              "    </tr>\n",
              "    <tr>\n",
              "      <th>175242</th>\n",
              "      <td>175242</td>\n",
              "      <td>423.193891</td>\n",
              "      <td>1237.776096</td>\n",
              "      <td>1043.164498</td>\n",
              "      <td>780.306330</td>\n",
              "      <td>558.304737</td>\n",
              "      <td>-3.400000e+30</td>\n",
              "      <td>0.436828</td>\n",
              "      <td>0.422871</td>\n",
              "      <td>-0.165913</td>\n",
              "      <td>...</td>\n",
              "      <td>17.536224</td>\n",
              "      <td>20.039064</td>\n",
              "      <td>19.376044</td>\n",
              "      <td>17.735570</td>\n",
              "      <td>0.000000e+00</td>\n",
              "      <td>0.032722</td>\n",
              "      <td>0.012750</td>\n",
              "      <td>0.012561</td>\n",
              "      <td>0.011025</td>\n",
              "      <td>NaN</td>\n",
              "    </tr>\n",
              "    <tr>\n",
              "      <th>175243</th>\n",
              "      <td>175243</td>\n",
              "      <td>408.978074</td>\n",
              "      <td>1212.062347</td>\n",
              "      <td>1005.483097</td>\n",
              "      <td>755.030622</td>\n",
              "      <td>545.375551</td>\n",
              "      <td>-3.400000e+30</td>\n",
              "      <td>0.447153</td>\n",
              "      <td>0.421851</td>\n",
              "      <td>-0.161280</td>\n",
              "      <td>...</td>\n",
              "      <td>16.668451</td>\n",
              "      <td>17.987422</td>\n",
              "      <td>18.203980</td>\n",
              "      <td>16.418770</td>\n",
              "      <td>0.000000e+00</td>\n",
              "      <td>0.030877</td>\n",
              "      <td>0.012876</td>\n",
              "      <td>0.011487</td>\n",
              "      <td>0.010035</td>\n",
              "      <td>NaN</td>\n",
              "    </tr>\n",
              "    <tr>\n",
              "      <th>175244</th>\n",
              "      <td>175244</td>\n",
              "      <td>396.042251</td>\n",
              "      <td>1203.614593</td>\n",
              "      <td>994.937156</td>\n",
              "      <td>746.774365</td>\n",
              "      <td>536.826735</td>\n",
              "      <td>-3.400000e+30</td>\n",
              "      <td>0.449650</td>\n",
              "      <td>0.430617</td>\n",
              "      <td>-0.163608</td>\n",
              "      <td>...</td>\n",
              "      <td>15.722678</td>\n",
              "      <td>17.830214</td>\n",
              "      <td>16.553118</td>\n",
              "      <td>14.849197</td>\n",
              "      <td>4.323840e+30</td>\n",
              "      <td>0.028286</td>\n",
              "      <td>0.010794</td>\n",
              "      <td>0.010864</td>\n",
              "      <td>0.009631</td>\n",
              "      <td>NaN</td>\n",
              "    </tr>\n",
              "    <tr>\n",
              "      <th>175245</th>\n",
              "      <td>175245</td>\n",
              "      <td>376.304425</td>\n",
              "      <td>1173.016856</td>\n",
              "      <td>944.767496</td>\n",
              "      <td>715.628324</td>\n",
              "      <td>520.390183</td>\n",
              "      <td>-3.400000e+30</td>\n",
              "      <td>0.463183</td>\n",
              "      <td>0.430355</td>\n",
              "      <td>-0.157992</td>\n",
              "      <td>...</td>\n",
              "      <td>12.103113</td>\n",
              "      <td>12.015568</td>\n",
              "      <td>12.860686</td>\n",
              "      <td>11.986688</td>\n",
              "      <td>0.000000e+00</td>\n",
              "      <td>0.026820</td>\n",
              "      <td>0.009076</td>\n",
              "      <td>0.009846</td>\n",
              "      <td>0.007782</td>\n",
              "      <td>NaN</td>\n",
              "    </tr>\n",
              "    <tr>\n",
              "      <th>175246</th>\n",
              "      <td>175246</td>\n",
              "      <td>372.792324</td>\n",
              "      <td>1173.748344</td>\n",
              "      <td>953.552687</td>\n",
              "      <td>716.922352</td>\n",
              "      <td>517.518200</td>\n",
              "      <td>-3.400000e+30</td>\n",
              "      <td>0.461224</td>\n",
              "      <td>0.437925</td>\n",
              "      <td>-0.161569</td>\n",
              "      <td>...</td>\n",
              "      <td>14.458567</td>\n",
              "      <td>17.138250</td>\n",
              "      <td>15.211807</td>\n",
              "      <td>13.330500</td>\n",
              "      <td>0.000000e+00</td>\n",
              "      <td>0.025770</td>\n",
              "      <td>0.011025</td>\n",
              "      <td>0.009983</td>\n",
              "      <td>0.009799</td>\n",
              "      <td>NaN</td>\n",
              "    </tr>\n",
              "  </tbody>\n",
              "</table>\n",
              "<p>175247 rows × 32 columns</p>\n",
              "</div>\n",
              "      <button class=\"colab-df-convert\" onclick=\"convertToInteractive('df-c56771df-c668-4299-8e3e-f10a605371fb')\"\n",
              "              title=\"Convert this dataframe to an interactive table.\"\n",
              "              style=\"display:none;\">\n",
              "\n",
              "  <svg xmlns=\"http://www.w3.org/2000/svg\" height=\"24px\"viewBox=\"0 0 24 24\"\n",
              "       width=\"24px\">\n",
              "    <path d=\"M0 0h24v24H0V0z\" fill=\"none\"/>\n",
              "    <path d=\"M18.56 5.44l.94 2.06.94-2.06 2.06-.94-2.06-.94-.94-2.06-.94 2.06-2.06.94zm-11 1L8.5 8.5l.94-2.06 2.06-.94-2.06-.94L8.5 2.5l-.94 2.06-2.06.94zm10 10l.94 2.06.94-2.06 2.06-.94-2.06-.94-.94-2.06-.94 2.06-2.06.94z\"/><path d=\"M17.41 7.96l-1.37-1.37c-.4-.4-.92-.59-1.43-.59-.52 0-1.04.2-1.43.59L10.3 9.45l-7.72 7.72c-.78.78-.78 2.05 0 2.83L4 21.41c.39.39.9.59 1.41.59.51 0 1.02-.2 1.41-.59l7.78-7.78 2.81-2.81c.8-.78.8-2.07 0-2.86zM5.41 20L4 18.59l7.72-7.72 1.47 1.35L5.41 20z\"/>\n",
              "  </svg>\n",
              "      </button>\n",
              "\n",
              "\n",
              "\n",
              "    <div id=\"df-3724eaa5-4ab4-4c54-b18b-95d71611ea4a\">\n",
              "      <button class=\"colab-df-quickchart\" onclick=\"quickchart('df-3724eaa5-4ab4-4c54-b18b-95d71611ea4a')\"\n",
              "              title=\"Suggest charts.\"\n",
              "              style=\"display:none;\">\n",
              "\n",
              "<svg xmlns=\"http://www.w3.org/2000/svg\" height=\"24px\"viewBox=\"0 0 24 24\"\n",
              "     width=\"24px\">\n",
              "    <g>\n",
              "        <path d=\"M19 3H5c-1.1 0-2 .9-2 2v14c0 1.1.9 2 2 2h14c1.1 0 2-.9 2-2V5c0-1.1-.9-2-2-2zM9 17H7v-7h2v7zm4 0h-2V7h2v10zm4 0h-2v-4h2v4z\"/>\n",
              "    </g>\n",
              "</svg>\n",
              "      </button>\n",
              "    </div>\n",
              "\n",
              "<style>\n",
              "  .colab-df-quickchart {\n",
              "    background-color: #E8F0FE;\n",
              "    border: none;\n",
              "    border-radius: 50%;\n",
              "    cursor: pointer;\n",
              "    display: none;\n",
              "    fill: #1967D2;\n",
              "    height: 32px;\n",
              "    padding: 0 0 0 0;\n",
              "    width: 32px;\n",
              "  }\n",
              "\n",
              "  .colab-df-quickchart:hover {\n",
              "    background-color: #E2EBFA;\n",
              "    box-shadow: 0px 1px 2px rgba(60, 64, 67, 0.3), 0px 1px 3px 1px rgba(60, 64, 67, 0.15);\n",
              "    fill: #174EA6;\n",
              "  }\n",
              "\n",
              "  [theme=dark] .colab-df-quickchart {\n",
              "    background-color: #3B4455;\n",
              "    fill: #D2E3FC;\n",
              "  }\n",
              "\n",
              "  [theme=dark] .colab-df-quickchart:hover {\n",
              "    background-color: #434B5C;\n",
              "    box-shadow: 0px 1px 3px 1px rgba(0, 0, 0, 0.15);\n",
              "    filter: drop-shadow(0px 1px 2px rgba(0, 0, 0, 0.3));\n",
              "    fill: #FFFFFF;\n",
              "  }\n",
              "</style>\n",
              "\n",
              "    <script>\n",
              "      async function quickchart(key) {\n",
              "        const containerElement = document.querySelector('#' + key);\n",
              "        const charts = await google.colab.kernel.invokeFunction(\n",
              "            'suggestCharts', [key], {});\n",
              "      }\n",
              "    </script>\n",
              "\n",
              "      <script>\n",
              "\n",
              "function displayQuickchartButton(domScope) {\n",
              "  let quickchartButtonEl =\n",
              "    domScope.querySelector('#df-3724eaa5-4ab4-4c54-b18b-95d71611ea4a button.colab-df-quickchart');\n",
              "  quickchartButtonEl.style.display =\n",
              "    google.colab.kernel.accessAllowed ? 'block' : 'none';\n",
              "}\n",
              "\n",
              "        displayQuickchartButton(document);\n",
              "      </script>\n",
              "      <style>\n",
              "    .colab-df-container {\n",
              "      display:flex;\n",
              "      flex-wrap:wrap;\n",
              "      gap: 12px;\n",
              "    }\n",
              "\n",
              "    .colab-df-convert {\n",
              "      background-color: #E8F0FE;\n",
              "      border: none;\n",
              "      border-radius: 50%;\n",
              "      cursor: pointer;\n",
              "      display: none;\n",
              "      fill: #1967D2;\n",
              "      height: 32px;\n",
              "      padding: 0 0 0 0;\n",
              "      width: 32px;\n",
              "    }\n",
              "\n",
              "    .colab-df-convert:hover {\n",
              "      background-color: #E2EBFA;\n",
              "      box-shadow: 0px 1px 2px rgba(60, 64, 67, 0.3), 0px 1px 3px 1px rgba(60, 64, 67, 0.15);\n",
              "      fill: #174EA6;\n",
              "    }\n",
              "\n",
              "    [theme=dark] .colab-df-convert {\n",
              "      background-color: #3B4455;\n",
              "      fill: #D2E3FC;\n",
              "    }\n",
              "\n",
              "    [theme=dark] .colab-df-convert:hover {\n",
              "      background-color: #434B5C;\n",
              "      box-shadow: 0px 1px 3px 1px rgba(0, 0, 0, 0.15);\n",
              "      filter: drop-shadow(0px 1px 2px rgba(0, 0, 0, 0.3));\n",
              "      fill: #FFFFFF;\n",
              "    }\n",
              "  </style>\n",
              "\n",
              "      <script>\n",
              "        const buttonEl =\n",
              "          document.querySelector('#df-c56771df-c668-4299-8e3e-f10a605371fb button.colab-df-convert');\n",
              "        buttonEl.style.display =\n",
              "          google.colab.kernel.accessAllowed ? 'block' : 'none';\n",
              "\n",
              "        async function convertToInteractive(key) {\n",
              "          const element = document.querySelector('#df-c56771df-c668-4299-8e3e-f10a605371fb');\n",
              "          const dataTable =\n",
              "            await google.colab.kernel.invokeFunction('convertToInteractive',\n",
              "                                                     [key], {});\n",
              "          if (!dataTable) return;\n",
              "\n",
              "          const docLinkHtml = 'Like what you see? Visit the ' +\n",
              "            '<a target=\"_blank\" href=https://colab.research.google.com/notebooks/data_table.ipynb>data table notebook</a>'\n",
              "            + ' to learn more about interactive tables.';\n",
              "          element.innerHTML = '';\n",
              "          dataTable['output_type'] = 'display_data';\n",
              "          await google.colab.output.renderOutput(dataTable, element);\n",
              "          const docLink = document.createElement('div');\n",
              "          docLink.innerHTML = docLinkHtml;\n",
              "          element.appendChild(docLink);\n",
              "        }\n",
              "      </script>\n",
              "    </div>\n",
              "  </div>\n"
            ]
          },
          "metadata": {},
          "execution_count": 11
        }
      ]
    },
    {
      "cell_type": "code",
      "source": [
        "mapeamento = {\n",
        "    'agrocampes': \"Agrocampestre\",\n",
        "    'praia': 'Áreas Descobertas',\n",
        "    'mangue': 'Mangue',\n",
        "    'areaUmida': 'Áreas Úmidas',\n",
        "    'vegetecaoD': 'Vegetação Densa'\n",
        "}\n",
        "\n",
        "# Renomear os valores na coluna 'classe' com base no dicionário de mapeamento\n",
        "df['classe'] = df['classe'].replace(mapeamento)"
      ],
      "metadata": {
        "id": "re7d6aQw5yHU"
      },
      "execution_count": null,
      "outputs": []
    },
    {
      "cell_type": "code",
      "source": [
        "df['classe'].unique()"
      ],
      "metadata": {
        "colab": {
          "base_uri": "https://localhost:8080/"
        },
        "id": "7hubZao10BDH",
        "outputId": "d395b72a-b38a-4e80-ec98-5689ec0c7638"
      },
      "execution_count": null,
      "outputs": [
        {
          "output_type": "execute_result",
          "data": {
            "text/plain": [
              "array([nan, 'Agrocampestre', 'Áreas Descobertas', 'Mangue',\n",
              "       'Áreas Úmidas', 'Vegetação Densa'], dtype=object)"
            ]
          },
          "metadata": {},
          "execution_count": 6
        }
      ]
    },
    {
      "cell_type": "code",
      "source": [
        "# O código a seguir filtra um DataFrame chamado 'df' para obter apenas as amostras que possuem valores válidos na coluna 'classe'.\n",
        "amostras = df[pd.isna(df['classe']) == False]\n",
        "amostras.head()\n"
      ],
      "metadata": {
        "colab": {
          "base_uri": "https://localhost:8080/",
          "height": 317
        },
        "id": "unRGWBM3VzYV",
        "outputId": "8a9723d9-3d1d-4093-9ada-716b2aa24873"
      },
      "execution_count": null,
      "outputs": [
        {
          "output_type": "execute_result",
          "data": {
            "text/plain": [
              "       Unnamed: 0     mean_b11      mean_b2      mean_b3      mean_b4  \\\n",
              "14347       14347  2898.521994  1278.302053  1256.378299  1323.079179   \n",
              "14352       14352  2366.021036  1229.844660  1142.381877  1187.245955   \n",
              "14353       14353  2577.429777  1211.064516  1191.168734  1146.458809   \n",
              "14354       14354  2962.717348  1280.287416  1258.538706  1338.024613   \n",
              "15450       15450  2430.535932  1228.788063  1216.903776  1110.304507   \n",
              "\n",
              "           mean_b8   mean_mde  mean_mmri  mean_mndwi  mean_ndvi  ...  \\\n",
              "14347  2457.225806  35.839250   0.138172   -0.394607   0.300048  ...   \n",
              "14352  1952.152104  33.727548   0.184788   -0.347173   0.241202  ...   \n",
              "14353  2565.607444  27.574618  -0.018599   -0.365828   0.381984  ...   \n",
              "14354  2464.033347  33.424913   0.156122   -0.402743   0.296284  ...   \n",
              "15450  2669.594397  15.578345  -0.110164   -0.330356   0.414786  ...   \n",
              "\n",
              "           sd_b2      sd_b3       sd_b4       sd_b8    sd_mde   sd_mmri  \\\n",
              "14347  32.712822  37.253440   76.886382   92.860277  1.056437  0.063900   \n",
              "14352  28.705262  36.303688   63.806451  208.819597  1.032453  0.074507   \n",
              "14353  42.237792  48.860838  106.224574  159.585898  3.998982  0.105794   \n",
              "14354  46.783233  55.346058  107.094573  129.790629  3.859018  0.086178   \n",
              "15450  77.108448  99.182004  169.788648  129.735935  7.133296  0.104522   \n",
              "\n",
              "       sd_mndwi   sd_ndvi   sd_ndwi         classe  \n",
              "14347  0.021000  0.035115  0.022599  Agrocampestre  \n",
              "14352  0.028116  0.042608  0.043028  Agrocampestre  \n",
              "14353  0.034885  0.053514  0.030685  Agrocampestre  \n",
              "14354  0.024473  0.046621  0.028409  Agrocampestre  \n",
              "15450  0.037317  0.057726  0.032828  Agrocampestre  \n",
              "\n",
              "[5 rows x 32 columns]"
            ],
            "text/html": [
              "\n",
              "\n",
              "  <div id=\"df-b59025d8-a08e-4743-9137-d03b22b35f5d\">\n",
              "    <div class=\"colab-df-container\">\n",
              "      <div>\n",
              "<style scoped>\n",
              "    .dataframe tbody tr th:only-of-type {\n",
              "        vertical-align: middle;\n",
              "    }\n",
              "\n",
              "    .dataframe tbody tr th {\n",
              "        vertical-align: top;\n",
              "    }\n",
              "\n",
              "    .dataframe thead th {\n",
              "        text-align: right;\n",
              "    }\n",
              "</style>\n",
              "<table border=\"1\" class=\"dataframe\">\n",
              "  <thead>\n",
              "    <tr style=\"text-align: right;\">\n",
              "      <th></th>\n",
              "      <th>Unnamed: 0</th>\n",
              "      <th>mean_b11</th>\n",
              "      <th>mean_b2</th>\n",
              "      <th>mean_b3</th>\n",
              "      <th>mean_b4</th>\n",
              "      <th>mean_b8</th>\n",
              "      <th>mean_mde</th>\n",
              "      <th>mean_mmri</th>\n",
              "      <th>mean_mndwi</th>\n",
              "      <th>mean_ndvi</th>\n",
              "      <th>...</th>\n",
              "      <th>sd_b2</th>\n",
              "      <th>sd_b3</th>\n",
              "      <th>sd_b4</th>\n",
              "      <th>sd_b8</th>\n",
              "      <th>sd_mde</th>\n",
              "      <th>sd_mmri</th>\n",
              "      <th>sd_mndwi</th>\n",
              "      <th>sd_ndvi</th>\n",
              "      <th>sd_ndwi</th>\n",
              "      <th>classe</th>\n",
              "    </tr>\n",
              "  </thead>\n",
              "  <tbody>\n",
              "    <tr>\n",
              "      <th>14347</th>\n",
              "      <td>14347</td>\n",
              "      <td>2898.521994</td>\n",
              "      <td>1278.302053</td>\n",
              "      <td>1256.378299</td>\n",
              "      <td>1323.079179</td>\n",
              "      <td>2457.225806</td>\n",
              "      <td>35.839250</td>\n",
              "      <td>0.138172</td>\n",
              "      <td>-0.394607</td>\n",
              "      <td>0.300048</td>\n",
              "      <td>...</td>\n",
              "      <td>32.712822</td>\n",
              "      <td>37.253440</td>\n",
              "      <td>76.886382</td>\n",
              "      <td>92.860277</td>\n",
              "      <td>1.056437</td>\n",
              "      <td>0.063900</td>\n",
              "      <td>0.021000</td>\n",
              "      <td>0.035115</td>\n",
              "      <td>0.022599</td>\n",
              "      <td>Agrocampestre</td>\n",
              "    </tr>\n",
              "    <tr>\n",
              "      <th>14352</th>\n",
              "      <td>14352</td>\n",
              "      <td>2366.021036</td>\n",
              "      <td>1229.844660</td>\n",
              "      <td>1142.381877</td>\n",
              "      <td>1187.245955</td>\n",
              "      <td>1952.152104</td>\n",
              "      <td>33.727548</td>\n",
              "      <td>0.184788</td>\n",
              "      <td>-0.347173</td>\n",
              "      <td>0.241202</td>\n",
              "      <td>...</td>\n",
              "      <td>28.705262</td>\n",
              "      <td>36.303688</td>\n",
              "      <td>63.806451</td>\n",
              "      <td>208.819597</td>\n",
              "      <td>1.032453</td>\n",
              "      <td>0.074507</td>\n",
              "      <td>0.028116</td>\n",
              "      <td>0.042608</td>\n",
              "      <td>0.043028</td>\n",
              "      <td>Agrocampestre</td>\n",
              "    </tr>\n",
              "    <tr>\n",
              "      <th>14353</th>\n",
              "      <td>14353</td>\n",
              "      <td>2577.429777</td>\n",
              "      <td>1211.064516</td>\n",
              "      <td>1191.168734</td>\n",
              "      <td>1146.458809</td>\n",
              "      <td>2565.607444</td>\n",
              "      <td>27.574618</td>\n",
              "      <td>-0.018599</td>\n",
              "      <td>-0.365828</td>\n",
              "      <td>0.381984</td>\n",
              "      <td>...</td>\n",
              "      <td>42.237792</td>\n",
              "      <td>48.860838</td>\n",
              "      <td>106.224574</td>\n",
              "      <td>159.585898</td>\n",
              "      <td>3.998982</td>\n",
              "      <td>0.105794</td>\n",
              "      <td>0.034885</td>\n",
              "      <td>0.053514</td>\n",
              "      <td>0.030685</td>\n",
              "      <td>Agrocampestre</td>\n",
              "    </tr>\n",
              "    <tr>\n",
              "      <th>14354</th>\n",
              "      <td>14354</td>\n",
              "      <td>2962.717348</td>\n",
              "      <td>1280.287416</td>\n",
              "      <td>1258.538706</td>\n",
              "      <td>1338.024613</td>\n",
              "      <td>2464.033347</td>\n",
              "      <td>33.424913</td>\n",
              "      <td>0.156122</td>\n",
              "      <td>-0.402743</td>\n",
              "      <td>0.296284</td>\n",
              "      <td>...</td>\n",
              "      <td>46.783233</td>\n",
              "      <td>55.346058</td>\n",
              "      <td>107.094573</td>\n",
              "      <td>129.790629</td>\n",
              "      <td>3.859018</td>\n",
              "      <td>0.086178</td>\n",
              "      <td>0.024473</td>\n",
              "      <td>0.046621</td>\n",
              "      <td>0.028409</td>\n",
              "      <td>Agrocampestre</td>\n",
              "    </tr>\n",
              "    <tr>\n",
              "      <th>15450</th>\n",
              "      <td>15450</td>\n",
              "      <td>2430.535932</td>\n",
              "      <td>1228.788063</td>\n",
              "      <td>1216.903776</td>\n",
              "      <td>1110.304507</td>\n",
              "      <td>2669.594397</td>\n",
              "      <td>15.578345</td>\n",
              "      <td>-0.110164</td>\n",
              "      <td>-0.330356</td>\n",
              "      <td>0.414786</td>\n",
              "      <td>...</td>\n",
              "      <td>77.108448</td>\n",
              "      <td>99.182004</td>\n",
              "      <td>169.788648</td>\n",
              "      <td>129.735935</td>\n",
              "      <td>7.133296</td>\n",
              "      <td>0.104522</td>\n",
              "      <td>0.037317</td>\n",
              "      <td>0.057726</td>\n",
              "      <td>0.032828</td>\n",
              "      <td>Agrocampestre</td>\n",
              "    </tr>\n",
              "  </tbody>\n",
              "</table>\n",
              "<p>5 rows × 32 columns</p>\n",
              "</div>\n",
              "      <button class=\"colab-df-convert\" onclick=\"convertToInteractive('df-b59025d8-a08e-4743-9137-d03b22b35f5d')\"\n",
              "              title=\"Convert this dataframe to an interactive table.\"\n",
              "              style=\"display:none;\">\n",
              "\n",
              "  <svg xmlns=\"http://www.w3.org/2000/svg\" height=\"24px\"viewBox=\"0 0 24 24\"\n",
              "       width=\"24px\">\n",
              "    <path d=\"M0 0h24v24H0V0z\" fill=\"none\"/>\n",
              "    <path d=\"M18.56 5.44l.94 2.06.94-2.06 2.06-.94-2.06-.94-.94-2.06-.94 2.06-2.06.94zm-11 1L8.5 8.5l.94-2.06 2.06-.94-2.06-.94L8.5 2.5l-.94 2.06-2.06.94zm10 10l.94 2.06.94-2.06 2.06-.94-2.06-.94-.94-2.06-.94 2.06-2.06.94z\"/><path d=\"M17.41 7.96l-1.37-1.37c-.4-.4-.92-.59-1.43-.59-.52 0-1.04.2-1.43.59L10.3 9.45l-7.72 7.72c-.78.78-.78 2.05 0 2.83L4 21.41c.39.39.9.59 1.41.59.51 0 1.02-.2 1.41-.59l7.78-7.78 2.81-2.81c.8-.78.8-2.07 0-2.86zM5.41 20L4 18.59l7.72-7.72 1.47 1.35L5.41 20z\"/>\n",
              "  </svg>\n",
              "      </button>\n",
              "\n",
              "\n",
              "\n",
              "    <div id=\"df-e593795b-f823-472d-af3e-8acc3cda40c1\">\n",
              "      <button class=\"colab-df-quickchart\" onclick=\"quickchart('df-e593795b-f823-472d-af3e-8acc3cda40c1')\"\n",
              "              title=\"Suggest charts.\"\n",
              "              style=\"display:none;\">\n",
              "\n",
              "<svg xmlns=\"http://www.w3.org/2000/svg\" height=\"24px\"viewBox=\"0 0 24 24\"\n",
              "     width=\"24px\">\n",
              "    <g>\n",
              "        <path d=\"M19 3H5c-1.1 0-2 .9-2 2v14c0 1.1.9 2 2 2h14c1.1 0 2-.9 2-2V5c0-1.1-.9-2-2-2zM9 17H7v-7h2v7zm4 0h-2V7h2v10zm4 0h-2v-4h2v4z\"/>\n",
              "    </g>\n",
              "</svg>\n",
              "      </button>\n",
              "    </div>\n",
              "\n",
              "<style>\n",
              "  .colab-df-quickchart {\n",
              "    background-color: #E8F0FE;\n",
              "    border: none;\n",
              "    border-radius: 50%;\n",
              "    cursor: pointer;\n",
              "    display: none;\n",
              "    fill: #1967D2;\n",
              "    height: 32px;\n",
              "    padding: 0 0 0 0;\n",
              "    width: 32px;\n",
              "  }\n",
              "\n",
              "  .colab-df-quickchart:hover {\n",
              "    background-color: #E2EBFA;\n",
              "    box-shadow: 0px 1px 2px rgba(60, 64, 67, 0.3), 0px 1px 3px 1px rgba(60, 64, 67, 0.15);\n",
              "    fill: #174EA6;\n",
              "  }\n",
              "\n",
              "  [theme=dark] .colab-df-quickchart {\n",
              "    background-color: #3B4455;\n",
              "    fill: #D2E3FC;\n",
              "  }\n",
              "\n",
              "  [theme=dark] .colab-df-quickchart:hover {\n",
              "    background-color: #434B5C;\n",
              "    box-shadow: 0px 1px 3px 1px rgba(0, 0, 0, 0.15);\n",
              "    filter: drop-shadow(0px 1px 2px rgba(0, 0, 0, 0.3));\n",
              "    fill: #FFFFFF;\n",
              "  }\n",
              "</style>\n",
              "\n",
              "    <script>\n",
              "      async function quickchart(key) {\n",
              "        const containerElement = document.querySelector('#' + key);\n",
              "        const charts = await google.colab.kernel.invokeFunction(\n",
              "            'suggestCharts', [key], {});\n",
              "      }\n",
              "    </script>\n",
              "\n",
              "      <script>\n",
              "\n",
              "function displayQuickchartButton(domScope) {\n",
              "  let quickchartButtonEl =\n",
              "    domScope.querySelector('#df-e593795b-f823-472d-af3e-8acc3cda40c1 button.colab-df-quickchart');\n",
              "  quickchartButtonEl.style.display =\n",
              "    google.colab.kernel.accessAllowed ? 'block' : 'none';\n",
              "}\n",
              "\n",
              "        displayQuickchartButton(document);\n",
              "      </script>\n",
              "      <style>\n",
              "    .colab-df-container {\n",
              "      display:flex;\n",
              "      flex-wrap:wrap;\n",
              "      gap: 12px;\n",
              "    }\n",
              "\n",
              "    .colab-df-convert {\n",
              "      background-color: #E8F0FE;\n",
              "      border: none;\n",
              "      border-radius: 50%;\n",
              "      cursor: pointer;\n",
              "      display: none;\n",
              "      fill: #1967D2;\n",
              "      height: 32px;\n",
              "      padding: 0 0 0 0;\n",
              "      width: 32px;\n",
              "    }\n",
              "\n",
              "    .colab-df-convert:hover {\n",
              "      background-color: #E2EBFA;\n",
              "      box-shadow: 0px 1px 2px rgba(60, 64, 67, 0.3), 0px 1px 3px 1px rgba(60, 64, 67, 0.15);\n",
              "      fill: #174EA6;\n",
              "    }\n",
              "\n",
              "    [theme=dark] .colab-df-convert {\n",
              "      background-color: #3B4455;\n",
              "      fill: #D2E3FC;\n",
              "    }\n",
              "\n",
              "    [theme=dark] .colab-df-convert:hover {\n",
              "      background-color: #434B5C;\n",
              "      box-shadow: 0px 1px 3px 1px rgba(0, 0, 0, 0.15);\n",
              "      filter: drop-shadow(0px 1px 2px rgba(0, 0, 0, 0.3));\n",
              "      fill: #FFFFFF;\n",
              "    }\n",
              "  </style>\n",
              "\n",
              "      <script>\n",
              "        const buttonEl =\n",
              "          document.querySelector('#df-b59025d8-a08e-4743-9137-d03b22b35f5d button.colab-df-convert');\n",
              "        buttonEl.style.display =\n",
              "          google.colab.kernel.accessAllowed ? 'block' : 'none';\n",
              "\n",
              "        async function convertToInteractive(key) {\n",
              "          const element = document.querySelector('#df-b59025d8-a08e-4743-9137-d03b22b35f5d');\n",
              "          const dataTable =\n",
              "            await google.colab.kernel.invokeFunction('convertToInteractive',\n",
              "                                                     [key], {});\n",
              "          if (!dataTable) return;\n",
              "\n",
              "          const docLinkHtml = 'Like what you see? Visit the ' +\n",
              "            '<a target=\"_blank\" href=https://colab.research.google.com/notebooks/data_table.ipynb>data table notebook</a>'\n",
              "            + ' to learn more about interactive tables.';\n",
              "          element.innerHTML = '';\n",
              "          dataTable['output_type'] = 'display_data';\n",
              "          await google.colab.output.renderOutput(dataTable, element);\n",
              "          const docLink = document.createElement('div');\n",
              "          docLink.innerHTML = docLinkHtml;\n",
              "          element.appendChild(docLink);\n",
              "        }\n",
              "      </script>\n",
              "    </div>\n",
              "  </div>\n"
            ]
          },
          "metadata": {},
          "execution_count": 7
        }
      ]
    },
    {
      "cell_type": "code",
      "source": [
        "# Gera as principais estatísticas descritivas do DataFrame \"amostras\"\n",
        "amostras.describe()"
      ],
      "metadata": {
        "id": "cfqMOIqsXc4E"
      },
      "execution_count": null,
      "outputs": []
    },
    {
      "cell_type": "code",
      "source": [
        "# Matriz de plotagem de dados faltantes (missing data) no DataFrame \"amostras\".\n",
        "# É uma ferramenta útil para identificar padrões de ausência de dados e auxiliar em tratamentos adequados.\n",
        "\n",
        "msno.matrix(amostras)\n",
        "plt.show()"
      ],
      "metadata": {
        "id": "S0O7NCzla_E0"
      },
      "execution_count": null,
      "outputs": []
    },
    {
      "cell_type": "code",
      "source": [
        "# A linha a seguir cria uma nova variável 'y', que é uma série contendo a coluna 'classe' do DataFrame 'amostras'.\n",
        "y = amostras['classe']\n",
        "\n",
        "# A linha abaixo cria um novo DataFrame 'X', que contém todas as colunas de 'amostras', exceto a coluna 'classe'.\n",
        "X = amostras.drop(columns=['classe'])\n"
      ],
      "metadata": {
        "id": "UN9hUiYHY9Mo"
      },
      "execution_count": null,
      "outputs": []
    },
    {
      "cell_type": "code",
      "source": [
        "# Gráfico de barras das contagens de classes em 'y'.\n",
        "# Visualizar a distribuição dos dados e identificar desequilíbrios ou padrões nas classes\n",
        "\n",
        "import matplotlib.pyplot as plt\n",
        "\n",
        "# Obtém as contagens de cada classe em 'y' e cria um gráfico de barras com cores diferentes para cada barra.\n",
        "\n",
        "y.value_counts().plot(kind=\"bar\", color=plt.cm.Paired(range(len(y.value_counts()))))\n",
        "\n",
        "# Exibe o gráfico.\n",
        "plt.show()"
      ],
      "metadata": {
        "id": "SSp3uUYCaA9-"
      },
      "execution_count": null,
      "outputs": []
    },
    {
      "cell_type": "markdown",
      "source": [
        "# **Machine learning**\n",
        "\n",
        " Divisão dos dados em conjuntos de treinamento e teste utilizando a função"
      ],
      "metadata": {
        "id": "Ctk64pgsXoQ7"
      }
    },
    {
      "cell_type": "code",
      "source": [
        "# Divisão dos dados em conjuntos de treinamento e teste utilizando a função train_test_split.\n",
        "# O conjunto de teste terá 30% dos dados, com semente aleatória 42\n",
        "\n",
        "X_train, X_test, y_train, y_test = train_test_split(X, y, test_size=0.3, random_state=42)"
      ],
      "metadata": {
        "id": "Kq4Y9ItCaUk9"
      },
      "execution_count": null,
      "outputs": []
    },
    {
      "cell_type": "code",
      "source": [
        "# Importação das classes enable_halving_search_cv e HalvingGridSearchCV do módulo sklearn.experimental.\n",
        "# Estas classes permitem utilizar a técnica de busca em grade (Grid Search) com redução de amostras (Halving).\n",
        "\n",
        "from sklearn.experimental import enable_halving_search_cv\n",
        "from sklearn.model_selection import HalvingGridSearchCV"
      ],
      "metadata": {
        "id": "rXximxyBbaRQ"
      },
      "execution_count": null,
      "outputs": []
    },
    {
      "cell_type": "markdown",
      "source": [
        "# **RANDOM FOREST**\n",
        "\n",
        "É um algoritmo de aprendizado de máquina que combina várias árvores de decisão usando amostragem por bootstrap e seleção aleatória de recursos. É eficaz em classificação e regressão"
      ],
      "metadata": {
        "id": "CdwJoQaCb0Y2"
      }
    },
    {
      "cell_type": "code",
      "source": [
        "# Dicionário 'p' com diferentes combinações de hiperparâmetros para a busca em grade.\n",
        "p = {\n",
        "    'n_estimators': [100, 500, 1000],\n",
        "    'max_depth': [5, 7, 9],\n",
        "    'min_samples_split': [2, 3],\n",
        "    'min_samples_leaf': [1, 2],\n",
        "    'max_samples': [0.8, 1],\n",
        "}\n",
        "\n",
        "# Instância do modelo Random Forest com estado aleatório 42.\n",
        "rf = RandomForestClassifier(random_state=42)\n",
        "\n",
        "# Aplicação da busca em grade ao modelo com validação cruzada (5 dobras).\n",
        "cv_rf = GridSearchCV(estimator=rf, param_grid=p, cv=5)\n",
        "\n",
        "# Treinamento do modelo com o conjunto de treinamento (X_train e y_train).\n",
        "cv_rf.fit(X_train, y_train)\n"
      ],
      "metadata": {
        "id": "GAmhPSjEbwG-"
      },
      "execution_count": null,
      "outputs": []
    },
    {
      "cell_type": "code",
      "source": [
        "# Melhores hiperparâmetros encontrados pela busca em grade (Grid Search) para o modelo Random Forest.\n",
        "best_params = cv_rf.best_params_\n",
        "best_params"
      ],
      "metadata": {
        "id": "o_FuT8UUc8MU"
      },
      "execution_count": null,
      "outputs": []
    },
    {
      "cell_type": "code",
      "source": [
        "# Realiza a previsão do modelo treinado com os melhores hiperparâmetros no conjunto de teste (X_test).\n",
        "y_pred = cv_rf.predict(X_test)\n",
        "\n",
        "# Calcula a pontuação F1 usando as previsões e os rótulos verdadeiros do conjunto de teste (y_test),\n",
        "# considerando a média micro para calcular a pontuação F1.\n",
        "f1_score_micro_random = f1_score(y_test, y_pred, average='micro')\n",
        "\n",
        "\n",
        "# A pontuação F1 micro é uma métrica de desempenho em tarefas de classificação.\n",
        "print(f'Pontuação F1 do modelo Random Forest: {f1_score_micro_random:.2f}')\n"
      ],
      "metadata": {
        "id": "6TPznsjbdHei"
      },
      "execution_count": null,
      "outputs": []
    },
    {
      "cell_type": "markdown",
      "source": [
        "# **MLP**\n",
        "Multilayer Perceptron (MLP) é um tipo de rede neural artificial com várias camadas ocultas que utiliza algoritmos de retropropagação para ajustar os pesos e realizar aprendizado supervisionado. É amplamente usado em classificação, regressão e reconhecimento de padrões em dados complexos"
      ],
      "metadata": {
        "id": "gBDFQp4gdY1Y"
      }
    },
    {
      "cell_type": "code",
      "source": [
        "# Dicionário 'p' com diferentes hiperparâmetros para busca em grade.\n",
        "p = {\n",
        "    'activation': ['identity', 'logistic', 'tanh', 'relu'],\n",
        "    'solver': ['lbfgs', 'sgd', 'adam'],\n",
        "    'alpha': [1],\n",
        "    'max_iter': [1000],\n",
        "}\n",
        "\n",
        "# Instância do classificador MLP com três camadas ocultas de 100 neurônios cada.\n",
        "mlp = MLPClassifier(hidden_layer_sizes=(100, 100, 100,))\n",
        "\n",
        "# Aplicação da busca em grade ao modelo MLP com validação cruzada (5 dobras).\n",
        "cv_mlp = GridSearchCV(estimator=mlp, param_grid=p, cv=5)\n",
        "\n",
        "# Treinamento do modelo MLP com o conjunto de treinamento (X_train e y_train).\n",
        "cv_mlp.fit(X_train, y_train)\n"
      ],
      "metadata": {
        "id": "Ar8jo_QsdxDK"
      },
      "execution_count": null,
      "outputs": []
    },
    {
      "cell_type": "code",
      "source": [
        "# Melhores hiperparâmetros encontrados pela busca em grade (Grid Search) para o modelo Multilayer Perceptron (MLP).\n",
        "best_params_ = cv_mlp.best_params_\n",
        "best_params_"
      ],
      "metadata": {
        "id": "dCAI5qxndzhx"
      },
      "execution_count": null,
      "outputs": []
    },
    {
      "cell_type": "code",
      "source": [
        "# Realiza a previsão do modelo MLP treinado com os melhores hiperparâmetros no conjunto de teste (X_test).\n",
        "y_pred = cv_mlp.predict(X_test,)\n",
        "\n",
        "# Calcula a pontuação F1 usando as previsões feitas pelo modelo (y_pred) e os rótulos verdadeiros do conjunto de teste (y_test).\n",
        "# A média micro é utilizada para calcular a pontuação F1, que é uma métrica de desempenho em tarefas de classificação.\n",
        "f1_score_micro_MLP = f1_score(y_test, y_pred, average='micro')\n",
        "\n",
        "\n",
        "# A pontuação F1 micro é uma métrica de desempenho em tarefas de classificação.\n",
        "print(f'Pontuação F1 do modelo MLP: {f1_score_micro_MLP:.2f}')\n"
      ],
      "metadata": {
        "id": "27rbv-VBeGT4"
      },
      "execution_count": null,
      "outputs": []
    },
    {
      "cell_type": "markdown",
      "source": [
        "# **SVC**\n",
        "\n",
        "SVC (Support Vector Classification) é um algoritmo de aprendizado de máquina usado para problemas de classificação. Ele encontra um hiperplano ótimo para separar duas classes no espaço de características. É eficaz em problemas lineares e não lineares."
      ],
      "metadata": {
        "id": "hVtJD5T7efbo"
      }
    },
    {
      "cell_type": "code",
      "source": [
        "# Dicionário 'p' com diferentes hiperparâmetros para busca em grade.\n",
        "\n",
        "p = {\n",
        "    'gamma': ['auto', 'scale'],\n",
        "    'C': [0.5, 1],\n",
        "    'kernel': ['linear', 'poly', 'rbf', 'sigmoid']\n",
        "}\n",
        "\n",
        "# Instância do classificador SVC (Support Vector Classification).\n",
        "svc = SVC()\n",
        "\n",
        "# Aplicação da busca em grade ao modelo SVC com validação cruzada (5 dobras).\n",
        "cv_svc = GridSearchCV(estimator=svc, param_grid=p, cv=5)\n",
        "\n",
        "# Treinamento do modelo SVC com o conjunto de treinamento (X_train e y_train).\n",
        "cv_svc.fit(X_train, y_train)\n"
      ],
      "metadata": {
        "id": "3AwoF8Q-em1f"
      },
      "execution_count": null,
      "outputs": []
    },
    {
      "cell_type": "code",
      "source": [
        "# Melhores hiperparâmetros encontrados pela busca em grade (Grid Search) para o modelo Support Vector Classification (SVC).\n",
        "best_params_ = cv_svc.best_params_\n",
        "best_params_"
      ],
      "metadata": {
        "id": "K5FbzZH_ggc3"
      },
      "execution_count": null,
      "outputs": []
    },
    {
      "cell_type": "code",
      "source": [
        "# Realiza a previsão do modelo SVC treinado com os melhores hiperparâmetros no conjunto de teste (X_test).\n",
        "y_pred = cv_svc.predict(X_test)\n",
        "\n",
        "# Calcula a pontuação F1 usando as previsões feitas pelo modelo (y_pred) e os rótulos verdadeiros do conjunto de teste (y_test).\n",
        "# A média micro é utilizada para calcular a pontuação F1, que é uma métrica de desempenho em tarefas de classificação.\n",
        "f1_score_micro_svc = f1_score(y_test, y_pred, average='micro')\n",
        "\n",
        "# A pontuação F1 micro é uma métrica de desempenho em tarefas de classificação.\n",
        "print(f'Pontuação F1 do modelo SVC: {f1_score_micro_svc:.2f}')"
      ],
      "metadata": {
        "id": "VCzQiCMZg7iu"
      },
      "execution_count": null,
      "outputs": []
    },
    {
      "cell_type": "markdown",
      "source": [
        "**XGBClassifier**\n",
        "\n",
        "XGBClassifier é um algoritmo de aprendizado de máquina baseado em gradient boosting usado para classificação e regressão. Ele é eficiente, rápido e pode lidar com grandes conjuntos de dados"
      ],
      "metadata": {
        "id": "CPodRz6BhD-r"
      }
    },
    {
      "cell_type": "code",
      "source": [
        "# Dicionário 'p' com diferentes hiperparâmetros para busca em grade.\n",
        "\n",
        "DEFAULT_RANDOM_STATE = 42\n",
        "\n",
        "p = {\n",
        "    'learning_rate': [0.01],\n",
        "    'n_estimators': [100],\n",
        "    'subsample': [0.8, 0.45],\n",
        "    'min_child_weight': [1],\n",
        "    'max_depth': [3, 4, 7],\n",
        "    'random_state': [DEFAULT_RANDOM_STATE],\n",
        "    'reg_lambda': [2],\n",
        "}\n",
        "\n",
        "# Instância do classificador XGBClassifier.\n",
        "xgb = XGBClassifier()\n",
        "\n",
        "# Aplicação da busca em grade ao modelo XGBClassifier com validação cruzada (5 dobras).\n",
        "cv_xgb = GridSearchCV(estimator=xgb, param_grid=p, cv=5)\n",
        "\n",
        "# Treinamento do modelo XGBClassifier com o conjunto de treinamento (X_train e y_train).\n",
        "cv_xgb.fit(X_train, y_train)\n"
      ],
      "metadata": {
        "id": "dE8eP9UyhxYN"
      },
      "execution_count": null,
      "outputs": []
    },
    {
      "cell_type": "code",
      "source": [
        "# Melhores hiperparâmetros encontrados pela busca em grade (Grid Search) para o modelo XGBClassifier.\n",
        "\n",
        "best_params_ = cv_xgb.best_params_\n",
        "best_params_"
      ],
      "metadata": {
        "id": "EuBaV296p7ze"
      },
      "execution_count": null,
      "outputs": []
    },
    {
      "cell_type": "code",
      "source": [
        "# Realiza a previsão do modelo XGBClassifier treinado com os melhores hiperparâmetros no conjunto de teste (X_test).\n",
        "y_pred = cv_xgb.predict(X_test)\n",
        "\n",
        "# Calcula a pontuação F1 usando as previsões feitas pelo modelo (y_pred) e os rótulos verdadeiros do conjunto de teste (y_test).\n",
        "# A média micro é utilizada para calcular a pontuação F1, que é uma métrica de desempenho em tarefas de classificação.\n",
        "f1_score_micro_XGB = f1_score(y_test, y_pred, average='micro')\n",
        "\n",
        "\n",
        "# A pontuação F1 micro é uma métrica de desempenho em tarefas de classificação.\n",
        "print(f'Pontuação F1 do modelo XGBClassifier: {f1_score_micro_XGB:.2f}')\n"
      ],
      "metadata": {
        "id": "gXrdgbKKqS5k"
      },
      "execution_count": null,
      "outputs": []
    },
    {
      "cell_type": "markdown",
      "source": [
        "# Algoritimo com melhor desempenho na classificação"
      ],
      "metadata": {
        "id": "fjxReQF5qjLl"
      }
    },
    {
      "cell_type": "code",
      "source": [
        "print(f'Pontuação F1 do modelo Random Forest: {f1_score_micro_random:.2f}')\n",
        "\n",
        "print(f'Pontuação F1 do modelo MLP: {f1_score_micro_MLP:.2f}')\n",
        "\n",
        "print(f'Pontuação F1 do modelo SVC: {f1_score_micro_svc:.2f}')\n",
        "\n",
        "print(f'Pontuação F1 do modelo XGBClassifier: {f1_score_micro_XGB:.2f}')\n",
        "\n"
      ],
      "metadata": {
        "id": "RO3UfK5yrQUJ"
      },
      "execution_count": null,
      "outputs": []
    },
    {
      "cell_type": "markdown",
      "source": [
        "# Algoritmo Random Forest\n",
        "selecionado, porque tem maior f1_score"
      ],
      "metadata": {
        "id": "XLh-1RDlqruE"
      }
    },
    {
      "cell_type": "code",
      "source": [
        "# Instância do modelo RandomForestClassifier com os hiperparâmetros selecionados.\n",
        "rf = RandomForestClassifier(random_state=42,\n",
        "                            max_depth=9,\n",
        "                            max_samples=0.8,\n",
        "                            min_samples_leaf=1,\n",
        "                            min_samples_split=2,\n",
        "                            n_estimators=1000)\n",
        "\n"
      ],
      "metadata": {
        "id": "aUdQp7eVqiPE"
      },
      "execution_count": null,
      "outputs": []
    },
    {
      "cell_type": "code",
      "source": [
        "# Treina o modelo RandomForestClassifier com o conjunto de treinamento (X_train e y_train).\n",
        "rf.fit(X_train, y_train)\n"
      ],
      "metadata": {
        "id": "FNBZHYt9sPrS"
      },
      "execution_count": null,
      "outputs": []
    },
    {
      "cell_type": "code",
      "source": [
        "# Imprime a dimensão do conjunto de dados de entrada (X).\n",
        "print(X.shape)\n",
        "\n",
        "# Imprime a dimensão do conjunto de rótulos (y).\n",
        "print(y.shape)\n"
      ],
      "metadata": {
        "id": "JSBd23llsX9y"
      },
      "execution_count": null,
      "outputs": []
    },
    {
      "cell_type": "code",
      "source": [
        "# Obtém os nomes das colunas (características) do conjunto de dados de entrada (X).\n",
        "colnames = X.columns\n",
        "\n",
        "# Cria um DataFrame 'feature_importances' contendo as importâncias das características,\n",
        "# obtidas a partir do modelo RandomForestClassifier (rf), indexado pelos nomes das colunas.\n",
        "\n",
        "feature_importances = pd.DataFrame(rf.feature_importances_,\n",
        "                                   index=colnames,\n",
        "                                   columns=['importance'])\n"
      ],
      "metadata": {
        "id": "-ryiC0A9sfnR"
      },
      "execution_count": null,
      "outputs": []
    },
    {
      "cell_type": "code",
      "source": [
        "# Cria uma figura com o tamanho de 12x5 polegadas para o gráfico de barras.\n",
        "plt.figure(figsize=(12, 5))\n",
        "\n",
        "# Cria um gráfico de barras utilizando o Seaborn (sns), onde o eixo x são os nomes das colunas (características)\n",
        "# e o eixo y representa as importâncias das características, obtidas do DataFrame 'feature_importances'.\n",
        "g = sns.barplot(x=colnames, y=feature_importances['importance'])\n",
        "\n",
        "# Rotaciona os rótulos do eixo x em 90 graus para melhor legibilidade.\n",
        "g.tick_params(axis='x', rotation=90)\n",
        "\n",
        "# Exibe o gráfico de barras.\n",
        "plt.show()\n"
      ],
      "metadata": {
        "id": "mxx3iSAKs9zT"
      },
      "execution_count": null,
      "outputs": []
    },
    {
      "cell_type": "code",
      "source": [
        "# Importa a classe FeatureImportances da biblioteca Yellowbrick, que permite visualizar as importâncias das características.\n",
        "from yellowbrick.features import FeatureImportances\n",
        "\n",
        "# Cria uma figura com o tamanho de 15x10 polegadas para a visualização.\n",
        "plt.figure(figsize=(15, 10))\n",
        "\n",
        "# Instancia um modelo RandomForestClassifier.\n",
        "model = RandomForestClassifier()\n",
        "\n",
        "# Cria um objeto FeatureImportances com o modelo RandomForestClassifier.\n",
        "viz = FeatureImportances(model)\n",
        "\n",
        "# Ajusta o objeto FeatureImportances aos dados de entrada (X) e rótulos (y) para calcular as importâncias das características.\n",
        "viz.fit(X, y)\n",
        "\n",
        "# Mostra o gráfico de importâncias das características.\n",
        "viz.show()\n"
      ],
      "metadata": {
        "id": "jhWOVZ3WtSYJ"
      },
      "execution_count": null,
      "outputs": []
    },
    {
      "cell_type": "code",
      "source": [
        "import eli5\n",
        "eli5.show_weights(rf, feature_names = X_train.columns.tolist())"
      ],
      "metadata": {
        "id": "-B5NFOCc-Aga"
      },
      "execution_count": null,
      "outputs": []
    },
    {
      "cell_type": "code",
      "source": [
        "# Importando a função show_prediction da biblioteca eli5\n",
        "from eli5 import show_prediction\n",
        "\n",
        "# Exibindo a explicação das previsões feitas pelo modelo de Random Forest (rf) para um exemplo específico (X_train.iloc[1])\n",
        "# feature_names é uma lista que contém os nomes das características (features) presentes no conjunto de treinamento (X_train)\n",
        "# show_feature_values=True indica que queremos mostrar os valores das características (features) na explicação\n",
        "\n",
        "show_prediction(rf, X_train.iloc[1], feature_names=X_train.columns.tolist(), show_feature_values=True)\n"
      ],
      "metadata": {
        "id": "yt94DaQn-Dyp"
      },
      "execution_count": null,
      "outputs": []
    },
    {
      "cell_type": "code",
      "source": [
        "# Fazendo a previsão das classes ou valores usando o modelo de Random Forest (rf)\n",
        "y_pred = rf.predict(X_test)\n"
      ],
      "metadata": {
        "id": "Qe6ciVxO-GB5"
      },
      "execution_count": null,
      "outputs": []
    },
    {
      "cell_type": "code",
      "source": [
        "from sklearn.metrics import plot_confusion_matrix"
      ],
      "metadata": {
        "id": "ePQe5CBk-IL3"
      },
      "execution_count": null,
      "outputs": []
    },
    {
      "cell_type": "code",
      "source": [
        "fig, ax = plt.subplots(figsize=(10, 10))\n",
        "plot_confusion_matrix(rf, X_test, y_test, ax=ax)\n",
        "plt.show()"
      ],
      "metadata": {
        "id": "CE1yNyTu-J1x"
      },
      "execution_count": null,
      "outputs": []
    },
    {
      "cell_type": "code",
      "source": [
        "from sklearn.metrics import roc_auc_score\n",
        "\n",
        "print(f1_score(y_test, y_pred, average='weighted'))\n",
        "print(accuracy_score(y_test, y_pred))\n",
        "print(precision_score(y_test, y_pred, average='weighted'))\n",
        "print(recall_score(y_test, y_pred, average='weighted'))"
      ],
      "metadata": {
        "id": "223mNTn5-McJ"
      },
      "execution_count": null,
      "outputs": []
    },
    {
      "cell_type": "code",
      "source": [
        "# Extrai as classes alvo (rótulos) do DataFrame 'df' e armazena na variável 'y'.\n",
        "y = df['classe']\n",
        "\n",
        "# Remove a coluna 'classe' do DataFrame 'df' e armazena o restante dos dados na variável 'X'.\n",
        "X = df.drop(columns=['classe'])\n"
      ],
      "metadata": {
        "id": "-2oK-F98-OmB"
      },
      "execution_count": null,
      "outputs": []
    },
    {
      "cell_type": "code",
      "source": [
        "X['mean_mde'][X['mean_mde'] < 0] = 0\n",
        "X['q50_mde'][X['q50_mde'] < 0] = 0\n",
        "X['sd_mde'][X['sd_mde'] < 0] = 0"
      ],
      "metadata": {
        "id": "2dyDjWGv-SLh"
      },
      "execution_count": null,
      "outputs": []
    },
    {
      "cell_type": "code",
      "source": [
        "# Realiza a predição das classes utilizando o modelo Random Forest treinado 'rf' nos dados de entrada 'X'.\n",
        "class_df = rf.predict(X)\n"
      ],
      "metadata": {
        "id": "PvRcz3DX-UPI"
      },
      "execution_count": null,
      "outputs": []
    },
    {
      "cell_type": "code",
      "source": [
        "# Criação de um DataFrame chamado df_pred a partir de um objeto chamado class_df\n",
        "df_pred = pd.DataFrame(class_df)\n"
      ],
      "metadata": {
        "id": "WYUAiecT-juO"
      },
      "execution_count": null,
      "outputs": []
    },
    {
      "cell_type": "code",
      "source": [
        "# Importando a biblioteca \"files\" do Google Colab\n",
        "from google.colab import files\n",
        "\n",
        "# Salvando o DataFrame df_pred em um arquivo CSV chamado 'df_final.csv', sem incluir o índice\n",
        "df_pred.to_csv('df_final.csv', index=False)\n",
        "\n",
        "# Fazendo o download do arquivo 'df_final.csv' para o seu dispositivo local\n",
        "files.download('df_final.csv')\n"
      ],
      "metadata": {
        "id": "RB44VxDI-al6"
      },
      "execution_count": null,
      "outputs": []
    },
    {
      "cell_type": "markdown",
      "source": [
        "# Comparar Algoritimos de machine learning"
      ],
      "metadata": {
        "id": "i7z4u2QFjTLN"
      }
    },
    {
      "cell_type": "code",
      "source": [
        "# Dados com as pontuações F1-Score para diferentes modelos de Machine Learning\n",
        "data = {'Random Forest': f1_score_micro_random,\n",
        "        'XGBClassifier': f1_score_micro_XGB,\n",
        "        'SVC': f1_score_micro_svc,\n",
        "        'MLP': f1_score_micro_MLP}\n",
        "\n",
        "# Lista dos modelos (chaves) e das pontuações F1-Score (valores)\n",
        "courses = list(data.keys())\n",
        "values = list(data.values())\n",
        "\n",
        "# Criando uma figura (gráfico) com tamanho 10x5\n",
        "fig = plt.figure(figsize=(10, 5))\n",
        "\n",
        "# Criando um gráfico de barras\n",
        "plt.bar(courses, values, width=0.4)\n",
        "\n",
        "# Definindo o rótulo do eixo Y\n",
        "plt.ylabel(\"F1-Score\")\n",
        "\n",
        "# Definindo o título do gráfico\n",
        "plt.title(\"Avaliação dos modelos de Machine Learning\")\n",
        "\n",
        "# Exibindo o gráfico\n",
        "plt.show()\n"
      ],
      "metadata": {
        "id": "U2-2b9T5-fKl"
      },
      "execution_count": null,
      "outputs": []
    },
    {
      "cell_type": "code",
      "source": [],
      "metadata": {
        "id": "KbVSlhKGfp4k"
      },
      "execution_count": null,
      "outputs": []
    }
  ]
}